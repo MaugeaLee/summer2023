{
 "cells": [
  {
   "cell_type": "markdown",
   "id": "a2fad92c",
   "metadata": {},
   "source": [
    "# 행렬에 원 그리기"
   ]
  },
  {
   "cell_type": "markdown",
   "id": "bb92f4a7",
   "metadata": {},
   "source": [
    "### 20x20 행렬에 숫자 0, 1을 이용해서 행렬 중앙에 원을 그리세요\n",
    "\n",
    "##### 사용 라이브러리 : numyp"
   ]
  },
  {
   "cell_type": "code",
   "execution_count": 1,
   "id": "31f1a91c",
   "metadata": {},
   "outputs": [
    {
     "name": "stdout",
     "output_type": "stream",
     "text": [
      "[[1 1 1 1 1 1 1 1 1 1 1 1 1 1 1 1 1 1 1 1]\n",
      " [1 1 1 1 1 1 1 1 1 1 1 1 1 1 1 1 1 1 1 1]\n",
      " [1 1 1 1 1 1 1 1 1 1 0 1 1 1 1 1 1 1 1 1]\n",
      " [1 1 1 1 1 1 1 0 0 0 0 0 0 0 1 1 1 1 1 1]\n",
      " [1 1 1 1 1 0 0 0 0 0 0 0 0 0 0 0 1 1 1 1]\n",
      " [1 1 1 1 0 0 0 0 0 0 0 0 0 0 0 0 0 1 1 1]\n",
      " [1 1 1 1 0 0 0 0 0 0 0 0 0 0 0 0 0 1 1 1]\n",
      " [1 1 1 0 0 0 0 0 0 0 0 0 0 0 0 0 0 0 1 1]\n",
      " [1 1 1 0 0 0 0 0 0 0 0 0 0 0 0 0 0 0 1 1]\n",
      " [1 1 1 0 0 0 0 0 0 0 0 0 0 0 0 0 0 0 1 1]\n",
      " [1 1 0 0 0 0 0 0 0 0 0 0 0 0 0 0 0 0 0 1]\n",
      " [1 1 1 0 0 0 0 0 0 0 0 0 0 0 0 0 0 0 1 1]\n",
      " [1 1 1 0 0 0 0 0 0 0 0 0 0 0 0 0 0 0 1 1]\n",
      " [1 1 1 0 0 0 0 0 0 0 0 0 0 0 0 0 0 0 1 1]\n",
      " [1 1 1 1 0 0 0 0 0 0 0 0 0 0 0 0 0 1 1 1]\n",
      " [1 1 1 1 0 0 0 0 0 0 0 0 0 0 0 0 0 1 1 1]\n",
      " [1 1 1 1 1 0 0 0 0 0 0 0 0 0 0 0 1 1 1 1]\n",
      " [1 1 1 1 1 1 1 0 0 0 0 0 0 0 1 1 1 1 1 1]\n",
      " [1 1 1 1 1 1 1 1 1 1 0 1 1 1 1 1 1 1 1 1]\n",
      " [1 1 1 1 1 1 1 1 1 1 1 1 1 1 1 1 1 1 1 1]]\n"
     ]
    }
   ],
   "source": [
    "import numpy as np\n",
    "\n",
    "def draw_circle(matrix, center, radius):\n",
    "    y, x = center\n",
    "    y0, x0 = np.ogrid[:matrix.shape[0], :matrix.shape[1]]\n",
    "    mask = (x0 - x)**2 + (y0 - y)**2 <= radius**2\n",
    "    matrix[mask] = 0\n",
    "\n",
    "image = np.ones((20, 20), dtype=int)\n",
    "\n",
    "draw_circle(image, (10, 10), 8)\n",
    "\n",
    "print(image)"
   ]
  }
 ],
 "metadata": {
  "kernelspec": {
   "display_name": "Python 3 (ipykernel)",
   "language": "python",
   "name": "python3"
  },
  "language_info": {
   "codemirror_mode": {
    "name": "ipython",
    "version": 3
   },
   "file_extension": ".py",
   "mimetype": "text/x-python",
   "name": "python",
   "nbconvert_exporter": "python",
   "pygments_lexer": "ipython3",
   "version": "3.8.15"
  }
 },
 "nbformat": 4,
 "nbformat_minor": 5
}
