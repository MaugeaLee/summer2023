{
 "cells": [
  {
   "cell_type": "code",
   "execution_count": 2,
   "id": "4db656b5",
   "metadata": {},
   "outputs": [],
   "source": [
    "import numpy as np"
   ]
  },
  {
   "cell_type": "code",
   "execution_count": 3,
   "id": "c1229648",
   "metadata": {},
   "outputs": [],
   "source": [
    "one=np.ones([1,10,10])"
   ]
  },
  {
   "cell_type": "code",
   "execution_count": 4,
   "id": "6d186cc5",
   "metadata": {},
   "outputs": [
    {
     "data": {
      "text/plain": [
       "array([[[1., 1., 1., 1., 1., 1., 1., 1., 1., 1.],\n",
       "        [1., 1., 1., 1., 1., 1., 1., 1., 1., 1.],\n",
       "        [1., 1., 1., 1., 1., 1., 1., 1., 1., 1.],\n",
       "        [1., 1., 1., 1., 1., 1., 1., 1., 1., 1.],\n",
       "        [1., 1., 1., 1., 1., 1., 1., 1., 1., 1.],\n",
       "        [1., 1., 1., 1., 1., 1., 1., 1., 1., 1.],\n",
       "        [1., 1., 1., 1., 1., 1., 1., 1., 1., 1.],\n",
       "        [1., 1., 1., 1., 1., 1., 1., 1., 1., 1.],\n",
       "        [1., 1., 1., 1., 1., 1., 1., 1., 1., 1.],\n",
       "        [1., 1., 1., 1., 1., 1., 1., 1., 1., 1.]]])"
      ]
     },
     "execution_count": 4,
     "metadata": {},
     "output_type": "execute_result"
    }
   ],
   "source": [
    "one"
   ]
  },
  {
   "cell_type": "code",
   "execution_count": 5,
   "id": "3223d96d",
   "metadata": {
    "scrolled": true
   },
   "outputs": [],
   "source": [
    "n=1\n",
    "for x in range(0,5):\n",
    "    for y in range(0,10):\n",
    "        one[0,x,y] = one[0,x,y]=n\n",
    "        n+=1\n",
    "n=1\n",
    "for x in range(9,4,-1):\n",
    "    for y in range(9,-1,-1):\n",
    "        one[0,x,y] = one[0,x,y]=n\n",
    "        n+=1\n",
    "        "
   ]
  },
  {
   "cell_type": "code",
   "execution_count": 6,
   "id": "3277470a",
   "metadata": {
    "scrolled": true
   },
   "outputs": [
    {
     "name": "stdout",
     "output_type": "stream",
     "text": [
      "[[[ 1.  2.  3.  4.  5.  6.  7.  8.  9. 10.]\n",
      "  [11. 12. 13. 14. 15. 16. 17. 18. 19. 20.]\n",
      "  [21. 22. 23. 24. 25. 26. 27. 28. 29. 30.]\n",
      "  [31. 32. 33. 34. 35. 36. 37. 38. 39. 40.]\n",
      "  [41. 42. 43. 44. 45. 46. 47. 48. 49. 50.]\n",
      "  [50. 49. 48. 47. 46. 45. 44. 43. 42. 41.]\n",
      "  [40. 39. 38. 37. 36. 35. 34. 33. 32. 31.]\n",
      "  [30. 29. 28. 27. 26. 25. 24. 23. 22. 21.]\n",
      "  [20. 19. 18. 17. 16. 15. 14. 13. 12. 11.]\n",
      "  [10.  9.  8.  7.  6.  5.  4.  3.  2.  1.]]]\n"
     ]
    }
   ],
   "source": [
    "print(one)"
   ]
  }
 ],
 "metadata": {
  "kernelspec": {
   "display_name": "Python 3 (ipykernel)",
   "language": "python",
   "name": "python3"
  },
  "language_info": {
   "codemirror_mode": {
    "name": "ipython",
    "version": 3
   },
   "file_extension": ".py",
   "mimetype": "text/x-python",
   "name": "python",
   "nbconvert_exporter": "python",
   "pygments_lexer": "ipython3",
   "version": "3.8.15"
  }
 },
 "nbformat": 4,
 "nbformat_minor": 5
}
