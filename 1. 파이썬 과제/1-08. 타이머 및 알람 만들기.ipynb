{
 "cells": [
  {
   "cell_type": "markdown",
   "id": "8d66b863",
   "metadata": {},
   "source": [
    "# Count down"
   ]
  },
  {
   "cell_type": "markdown",
   "id": "1b9e84cd",
   "metadata": {},
   "source": [
    "### 1. 초를 입력 받은 후 입력 받은 초가 다 지나면 시간이 끝났다는 알람을 출력하세요\n",
    "\n",
    "##### 사용 라이브러리 : time"
   ]
  },
  {
   "cell_type": "code",
   "execution_count": 44,
   "id": "28db40e5",
   "metadata": {
    "scrolled": true
   },
   "outputs": [
    {
     "name": "stdout",
     "output_type": "stream",
     "text": [
      "시간을 초단위로 입력하세요:10\n",
      "start!\n",
      "----------------------------------------\n",
      "10\n",
      "9\n",
      "8\n",
      "7\n",
      "6\n",
      "5\n",
      "4\n",
      "3\n",
      "2\n",
      "1\n",
      "finish!\n"
     ]
    }
   ],
   "source": [
    "import time\n",
    "    \n",
    "sec=int(input(\"시간을 초단위로 입력하세요:\"))\n",
    "print(\"start!\")\n",
    "print(\"-\"*40)\n",
    "\n",
    "while sec>=0:\n",
    "    print(sec)\n",
    "    sec-=1\n",
    "    time.sleep(1)\n",
    "    if sec==0:\n",
    "        print(\"finish!\")\n",
    "        break\n",
    "    "
   ]
  },
  {
   "cell_type": "markdown",
   "id": "d1b312d5",
   "metadata": {},
   "source": [
    "### 2. 시간을 정해둔 후 정해둔 시간이 되면 알람을 출력하세요\n",
    "\n",
    "##### 사용 라이브러리 : datetime, time"
   ]
  },
  {
   "cell_type": "code",
   "execution_count": 49,
   "id": "d409323b",
   "metadata": {},
   "outputs": [
    {
     "name": "stdout",
     "output_type": "stream",
     "text": [
      "choice Hour (24hour) :1\n",
      "choice minute :4\n",
      "choice Hour :30\n",
      "alarm time: 1:4:30\n",
      "current time: 1:4:12\n",
      "alarm on!\n",
      "----------------------------------------\n",
      "current time :  1:4:12\n",
      "current time :  1:4:13\n",
      "current time :  1:4:14\n",
      "current time :  1:4:15\n",
      "current time :  1:4:16\n",
      "current time :  1:4:17\n",
      "current time :  1:4:18\n",
      "current time :  1:4:19\n",
      "current time :  1:4:20\n",
      "current time :  1:4:21\n",
      "current time :  1:4:22\n",
      "current time :  1:4:23\n",
      "current time :  1:4:24\n",
      "current time :  1:4:25\n",
      "current time :  1:4:26\n",
      "current time :  1:4:27\n",
      "current time :  1:4:28\n",
      "current time :  1:4:29\n",
      "current time :  1:4:30\n",
      "finish!\n"
     ]
    }
   ],
   "source": [
    "import datetime\n",
    "import time\n",
    "\n",
    "choice_h = int(input(\"choice Hour (24hour) :\"))\n",
    "choice_m = int(input(\"choice minute :\"))\n",
    "choice_s = int(input(\"choice Hour :\"))\n",
    "\n",
    "current_h = int(datetime.datetime.now().strftime(\"%H\"))\n",
    "current_m = int(datetime.datetime.now().strftime(\"%M\"))\n",
    "current_s = int(datetime.datetime.now().strftime(\"%S\"))\n",
    "\n",
    "\n",
    "choice_time = \"%d:%d:%d\"%(choice_h,choice_m,choice_s)\n",
    "current_time = \"%d:%d:%d\"%(current_h,current_m,current_s)\n",
    "\n",
    "\n",
    "print(\"alarm time:\", choice_time)\n",
    "print(\"current time:\", current_time)\n",
    "\n",
    "print(\"alarm on!\")\n",
    "print(\"-\"*40)\n",
    "\n",
    "while choice_h != current_h or choice_m != current_m or choice_s != current_s:\n",
    "    current_h = int(datetime.datetime.now().strftime(\"%H\"))\n",
    "    current_m = int(datetime.datetime.now().strftime(\"%M\"))\n",
    "    current_s = int(datetime.datetime.now().strftime(\"%S\"))\n",
    "    current_time = \"%d:%d:%d\"%(current_h,current_m,current_s)\n",
    "    print(\"current time : \",current_time)\n",
    "    \n",
    "    time.sleep(1)\n",
    "    if choice_h == current_h and choice_m == current_m and choice_s == current_s:\n",
    "        print(\"finish!\")\n",
    "        break\n",
    "    \n",
    "    "
   ]
  },
  {
   "cell_type": "code",
   "execution_count": null,
   "id": "bb547175",
   "metadata": {},
   "outputs": [],
   "source": []
  }
 ],
 "metadata": {
  "kernelspec": {
   "display_name": "Python 3 (ipykernel)",
   "language": "python",
   "name": "python3"
  },
  "language_info": {
   "codemirror_mode": {
    "name": "ipython",
    "version": 3
   },
   "file_extension": ".py",
   "mimetype": "text/x-python",
   "name": "python",
   "nbconvert_exporter": "python",
   "pygments_lexer": "ipython3",
   "version": "3.9.12"
  }
 },
 "nbformat": 4,
 "nbformat_minor": 5
}
