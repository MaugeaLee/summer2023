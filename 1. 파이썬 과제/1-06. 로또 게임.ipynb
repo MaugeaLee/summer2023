{
 "cells": [
  {
   "cell_type": "markdown",
   "id": "10e5be74",
   "metadata": {},
   "source": [
    "# Lotto Game"
   ]
  },
  {
   "cell_type": "markdown",
   "id": "fa45f232",
   "metadata": {},
   "source": [
    "### 1. 컴퓨터가 랜덤으로 1에서 45까지로 구성된 번호 6개를 정한 후, 사용자가 직접 1에서 45까지로 구성된 번호 6개를 고르고 맞춘 개수를 확인하세요\n",
    "\n",
    "##### 사용 라이브러리 : random"
   ]
  },
  {
   "cell_type": "code",
   "execution_count": 1,
   "id": "f53c5c07",
   "metadata": {},
   "outputs": [
    {
     "name": "stdout",
     "output_type": "stream",
     "text": [
      "1부터 45까지의 숫자를 입력하세요 : 1\n",
      "1부터 45까지의 숫자를 입력하세요 : 2\n",
      "1부터 45까지의 숫자를 입력하세요 : 3\n",
      "1부터 45까지의 숫자를 입력하세요 : 4\n",
      "1부터 45까지의 숫자를 입력하세요 : 5\n",
      "1부터 45까지의 숫자를 입력하세요 : 6\n",
      "----------------------------------------\n",
      "1개 맞췄습니다!\n"
     ]
    }
   ],
   "source": [
    "import random\n",
    "\n",
    "answer = []\n",
    "numbers = []\n",
    "\n",
    "\n",
    "while len(answer) < 6:\n",
    "    ans = random.randint(1,46)\n",
    "    if ans in answer:\n",
    "        pass\n",
    "    else:\n",
    "        answer.append(ans)\n",
    "        \n",
    "# print(answer)\n",
    "\n",
    "\n",
    "while len(numbers) < 6:\n",
    "    num = input(\"1부터 45까지의 숫자를 입력하세요 : \")\n",
    "    try:\n",
    "        if int(num) < 1 or int(num) > 45:\n",
    "            print(\"가능 숫자를 벗어났어요.\")        \n",
    "\n",
    "        elif int(num) in numbers:\n",
    "            print(\"이미 있는 숫자에요.\")\n",
    "\n",
    "        else:\n",
    "            numbers.append(int(num))\n",
    "\n",
    "    except:\n",
    "        print(\"숫자를 입력하세요\")\n",
    "        pass\n",
    "\n",
    "print(\"-\"*40)\n",
    "\n",
    "\n",
    "\n",
    "same=0\n",
    "for a in answer:\n",
    "    for n in numbers:\n",
    "        if a == n:\n",
    "            same+=1\n",
    "            \n",
    "print(\"%d개 맞췄습니다!\"%same)"
   ]
  }
 ],
 "metadata": {
  "kernelspec": {
   "display_name": "Python 3 (ipykernel)",
   "language": "python",
   "name": "python3"
  },
  "language_info": {
   "codemirror_mode": {
    "name": "ipython",
    "version": 3
   },
   "file_extension": ".py",
   "mimetype": "text/x-python",
   "name": "python",
   "nbconvert_exporter": "python",
   "pygments_lexer": "ipython3",
   "version": "3.9.12"
  }
 },
 "nbformat": 4,
 "nbformat_minor": 5
}
