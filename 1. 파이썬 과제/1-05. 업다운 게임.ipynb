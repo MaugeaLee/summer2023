{
 "cells": [
  {
   "cell_type": "markdown",
   "id": "6ad2898c",
   "metadata": {},
   "source": [
    "# updown Game"
   ]
  },
  {
   "cell_type": "markdown",
   "id": "57124d3d",
   "metadata": {},
   "source": [
    "### 1. 컴퓨터가 랜덤으로 숫자를 정한 후 사용자가 숫자를 말할 때마다 컴퓨터의 숫자보다 큰지 작은지를 정답을 맞출 때 까지 알려주는 게임을 만드세요\n",
    "\n",
    "##### 사용 패키지 : random"
   ]
  },
  {
   "cell_type": "code",
   "execution_count": 1,
   "id": "00be47d5",
   "metadata": {
    "scrolled": true
   },
   "outputs": [
    {
     "name": "stdout",
     "output_type": "stream",
     "text": [
      "0~100까지의 숫자를 입력하세요.\n",
      "----------------------------------------\n",
      "1 번째 도전!!\n",
      "당신의 선택은 ? : 33\n",
      "정답보다 작네요\n",
      "----------------------------------------\n",
      "2 번째 도전!!\n",
      "당신의 선택은 ? : 66\n",
      "정답보다 작네요\n",
      "----------------------------------------\n",
      "3 번째 도전!!\n",
      "당신의 선택은 ? : 88\n",
      "정답보다 크네요\n",
      "----------------------------------------\n",
      "4 번째 도전!!\n",
      "당신의 선택은 ? : 77\n",
      "정답보다 크네요\n",
      "----------------------------------------\n",
      "5 번째 도전!!\n",
      "당신의 선택은 ? : 70\n",
      "정답입니다! 축하드립니다!\n"
     ]
    }
   ],
   "source": [
    "import random\n",
    "\n",
    "print('0~100까지의 숫자를 입력하세요.')\n",
    "\n",
    "com = random.randint(0,100)\n",
    "count = 0\n",
    "\n",
    "while True:\n",
    "    count += 1\n",
    "    print(\"-\"*40)\n",
    "    print(f\"{count} 번째 도전!!\")\n",
    "    user = int(input('당신의 선택은 ? : '))\n",
    "\n",
    "    if user > com:\n",
    "        print('정답보다 크네요')\n",
    "    elif user < com:\n",
    "        print('정답보다 작네요')\n",
    "        \n",
    "    else:\n",
    "        print('정답입니다! 축하드립니다!')\n",
    "        break"
   ]
  },
  {
   "cell_type": "code",
   "execution_count": null,
   "id": "72bb44fe",
   "metadata": {},
   "outputs": [],
   "source": []
  }
 ],
 "metadata": {
  "kernelspec": {
   "display_name": "Python 3 (ipykernel)",
   "language": "python",
   "name": "python3"
  },
  "language_info": {
   "codemirror_mode": {
    "name": "ipython",
    "version": 3
   },
   "file_extension": ".py",
   "mimetype": "text/x-python",
   "name": "python",
   "nbconvert_exporter": "python",
   "pygments_lexer": "ipython3",
   "version": "3.9.12"
  }
 },
 "nbformat": 4,
 "nbformat_minor": 5
}
